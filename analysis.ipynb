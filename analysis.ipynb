{
 "cells": [
  {
   "attachments": {},
   "cell_type": "markdown",
   "metadata": {},
   "source": [
    "# Exploratory Data Analysis on Iris Dataset\n",
    "*By Bhavya Bhargava*<br>\n",
    "\n",
    "The IRIS dataset is a classic dataset in machine learning and statistics, consisting of 150 samples of iris flowers from three species: Iris-setosa, Iris-versicolor, and Iris-virginica.  The dataset is widely used for classification, clustering, pattern recognition and EDA tasks due to its simplicity and well-defined structure.\n",
    "\n",
    "### About the Dataset:\n",
    "#### Dataset Source:  \n",
    "The IRIS dataset was first introduced by British statistician Ronald A. Fisher in his 1936 paper on linear discriminant analysis. It is publicly available and can be accessed through libraries like `scikit-learn` or UCI Machine Learning Repository. For our use-case we'll be going with the `scikit-learn` pathway.\n",
    "\n",
    "#### Features:  \n",
    "1. **Sepal Length (cm)**: Length of the sepal in centimeters.  \n",
    "2. **Sepal Width (cm)**: Width of the sepal in centimeters.  \n",
    "3. **Petal Length (cm)**: Length of the petal in centimeters.  \n",
    "4. **Petal Width (cm)**: Width of the petal in centimeters.  \n",
    "5. **Species**: Target variable indicating the iris flower species (Iris-setosa, Iris-versicolor, Iris-virginica).  \n"
   ]
  },
  {
   "cell_type": "code",
   "execution_count": 1,
   "metadata": {},
   "outputs": [],
   "source": [
    "# Importing the required libraries\n",
    "\n",
    "import numpy as np\n",
    "import pandas as pd\n",
    "import matplotlib.pyplot as plt\n",
    "import seaborn as sns\n",
    "\n",
    "# Importing the Iris data from Scikit-Learn\n",
    "\n",
    "from sklearn.datasets import load_iris\n",
    "\n",
    "# For getting the plots inline\n",
    "%matplotlib inline"
   ]
  },
  {
   "attachments": {},
   "cell_type": "markdown",
   "metadata": {},
   "source": [
    "Converting the raw Iris data to a dataframe for further exploration."
   ]
  },
  {
   "cell_type": "code",
   "execution_count": null,
   "metadata": {},
   "outputs": [],
   "source": [
    "# Loading the Iris Data"
   ]
  }
 ],
 "metadata": {
  "kernelspec": {
   "display_name": "myenv",
   "language": "python",
   "name": "python3"
  },
  "language_info": {
   "codemirror_mode": {
    "name": "ipython",
    "version": 3
   },
   "file_extension": ".py",
   "mimetype": "text/x-python",
   "name": "python",
   "nbconvert_exporter": "python",
   "pygments_lexer": "ipython3",
   "version": "3.12.2"
  },
  "orig_nbformat": 4
 },
 "nbformat": 4,
 "nbformat_minor": 2
}
